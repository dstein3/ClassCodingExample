{
 "cells": [
  {
   "cell_type": "code",
   "execution_count": 1,
   "id": "7cc03c92",
   "metadata": {},
   "outputs": [],
   "source": [
    "class animal:\n",
    "    \"\"\"animal class\"\"\"\n",
    "    def __init__(self, name):\n",
    "        print('Initializing name')\n",
    "        self.__name = name\n",
    "        \n",
    "    @property\n",
    "    def name(self):\n",
    "        print('Getting name')\n",
    "        return self.__name\n",
    "    \n",
    "    def set_phylum(self,phylum):\n",
    "        self._phylum = phylum\n",
    "        \n",
    "    def get_phylum(self):\n",
    "        return self._phylum\n",
    "    \n",
    "    def eating(self):\n",
    "        print('eating')"
   ]
  },
  {
   "cell_type": "code",
   "execution_count": 2,
   "id": "4c45881a",
   "metadata": {},
   "outputs": [
    {
     "name": "stdout",
     "output_type": "stream",
     "text": [
      "Initializing name\n"
     ]
    }
   ],
   "source": [
    "animal1 = animal('Tiger')"
   ]
  },
  {
   "cell_type": "code",
   "execution_count": 3,
   "id": "bf0df549",
   "metadata": {},
   "outputs": [],
   "source": [
    "animal1.set_phylum('animalia')"
   ]
  },
  {
   "cell_type": "code",
   "execution_count": 5,
   "id": "be7ecd5e",
   "metadata": {},
   "outputs": [
    {
     "name": "stdout",
     "output_type": "stream",
     "text": [
      "animalia\n"
     ]
    }
   ],
   "source": [
    "print(animal1.get_phylum())"
   ]
  },
  {
   "cell_type": "code",
   "execution_count": 10,
   "id": "2b514116",
   "metadata": {},
   "outputs": [],
   "source": [
    "class book:\n",
    "    \"\"\"book class\"\"\"\n",
    "    def __init__(self,name):\n",
    "        self.__name = name\n",
    "        \n",
    "    @property\n",
    "    def name(self):\n",
    "        return self.__name\n",
    "    \n",
    "    def get_pages(self):\n",
    "        return self._pages\n",
    "    \n",
    "    def set_pages(self,pages):\n",
    "        self._pages = pages\n",
    "        \n",
    "    def get_open(self):\n",
    "        return self._open\n",
    "        \n",
    "    def set_open(self,open):\n",
    "        #True or False\n",
    "        self._open = open"
   ]
  },
  {
   "cell_type": "code",
   "execution_count": 11,
   "id": "0b7c1aa8",
   "metadata": {},
   "outputs": [
    {
     "name": "stdout",
     "output_type": "stream",
     "text": [
      "False\n"
     ]
    }
   ],
   "source": [
    "book1 = book('dictionary')\n",
    "book1.set_open(False)\n",
    "print(book1.get_open())"
   ]
  },
  {
   "cell_type": "code",
   "execution_count": 12,
   "id": "bd377d2f",
   "metadata": {},
   "outputs": [],
   "source": [
    "class vehicle:\n",
    "    \"\"\"vehicle class\"\"\"\n",
    "    \n",
    "    def __init__(self,name):\n",
    "        self.__name = name\n",
    "        \n",
    "    def get_model(self):\n",
    "        return self._model\n",
    "    \n",
    "    def set_model(self,model):\n",
    "        self._model = model\n",
    "        \n",
    "    def moving(self):\n",
    "        print('watch for pedestrians!')"
   ]
  },
  {
   "cell_type": "code",
   "execution_count": 14,
   "id": "debf58fa",
   "metadata": {},
   "outputs": [
    {
     "name": "stdout",
     "output_type": "stream",
     "text": [
      "1998\n",
      "watch for pedestrians!\n"
     ]
    }
   ],
   "source": [
    "vehicle1 = vehicle('Hyundai')\n",
    "vehicle1.set_model(1998)\n",
    "print(vehicle1.get_model())\n",
    "vehicle1.moving()"
   ]
  },
  {
   "cell_type": "code",
   "execution_count": null,
   "id": "e71499b5",
   "metadata": {},
   "outputs": [],
   "source": []
  }
 ],
 "metadata": {
  "kernelspec": {
   "display_name": "Python 3 (ipykernel)",
   "language": "python",
   "name": "python3"
  },
  "language_info": {
   "codemirror_mode": {
    "name": "ipython",
    "version": 3
   },
   "file_extension": ".py",
   "mimetype": "text/x-python",
   "name": "python",
   "nbconvert_exporter": "python",
   "pygments_lexer": "ipython3",
   "version": "3.9.10"
  }
 },
 "nbformat": 4,
 "nbformat_minor": 5
}
